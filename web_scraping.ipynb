{
  "nbformat": 4,
  "nbformat_minor": 0,
  "metadata": {
    "colab": {
      "name": "Untitled4.ipynb",
      "provenance": [],
      "include_colab_link": true
    },
    "kernelspec": {
      "name": "python3",
      "display_name": "Python 3"
    }
  },
  "cells": [
    {
      "cell_type": "markdown",
      "metadata": {
        "id": "view-in-github",
        "colab_type": "text"
      },
      "source": [
        "<a href=\"https://colab.research.google.com/github/gabordun/web_scraping/blob/master/web_scraping.ipynb\" target=\"_parent\"><img src=\"https://colab.research.google.com/assets/colab-badge.svg\" alt=\"Open In Colab\"/></a>"
      ]
    },
    {
      "cell_type": "markdown",
      "metadata": {
        "id": "BSINI_S8QRib",
        "colab_type": "text"
      },
      "source": [
        "**Web scraping project to create a COVID-19 heat map**\n",
        "\n",
        "The aim is to count the uniqe mentions of Coronavirus on the world's most popular websites.\n",
        "\n",
        "The list of the most popular websites comes from:\n",
        "http://www.ebizmba.com/articles/news-websites\n",
        "\n",
        "The script **scrapes this site for the URLs** of the mostly visited news websites worldwide.\n",
        "\n",
        "After getting the URLs, **the script creates a parsed object for every individual websites' startsite content**.\n",
        "\n",
        "Then, according to a pre-defined '**keywords**' list, the script counts the number of mentioning of all the keywords and put the numbers in an **output table**.\n",
        "\n",
        "The output table contains the name & and the exact URL of the corresponding website, the number of the keywords total appearances and a proxy for the size of the site (the last in order to get some comparable measure).\n",
        "\n",
        "Finally, in the last section the output table is saved on Google Drive. After that, the saved file is intended to import into Tableau to create a visualization of the results."
      ]
    },
    {
      "cell_type": "code",
      "metadata": {
        "id": "Ivafqztuo-Os",
        "colab_type": "code",
        "outputId": "46f20ee1-5d4d-4337-db19-7da541677ada",
        "colab": {
          "base_uri": "https://localhost:8080/",
          "height": 110
        }
      },
      "source": [
        "#get the URLs of the news sites\n",
        "\n",
        "#import packages\n",
        "\n",
        "import numpy as np\n",
        "import pandas as pd\n",
        "import csv\n",
        "from bs4 import BeautifulSoup\n",
        "import re\n",
        "import time\n",
        "import datetime\n",
        "\n",
        "#import requests\n",
        "\n",
        "from urllib import request\n",
        "import urllib\n",
        "import requests\n",
        "\n",
        "#finding sources\n",
        "\n",
        "\n",
        "url = 'http://www.ebizmba.com/articles/news-websites'\n",
        "\n",
        "def getAllUrl(url):\n",
        "    try:\n",
        "        page = request.urlopen(url).read()\n",
        "    except:\n",
        "        return []\n",
        "    urlList = []\n",
        "    try:\n",
        "        soup = BeautifulSoup(page)\n",
        "        soup.prettify()\n",
        "        for anchor in soup.findAll('a', href=True):\n",
        "            if not 'http://' in anchor['href']:\n",
        "                if urlparse.urljoin(url, anchor['href']) not in urlList:\n",
        "                    urlList.append(urlparse.urljoin(url, anchor['href']))\n",
        "            else:\n",
        "                if anchor['href'] not in urlList:\n",
        "                    urlList.append(anchor['href'])\n",
        "\n",
        "        length = len(urlList)\n",
        "\n",
        "        return urlList\n",
        "    except request.HTTPError as e:\n",
        "        print(e)\n",
        "\n",
        "print(getAllUrl(url))\n",
        "\n",
        "result_url_list= getAllUrl(url)\n",
        "not_needed = ['ebizmba','alexa','quantcast','siteanalytics']\n",
        "\n",
        "#filter unnecessary items\n",
        "\n",
        "for item in getAllUrl(url):\n",
        " for i in not_needed:\n",
        "  if i in (item):\n",
        "   result_url_list.remove(item)\n",
        "\n",
        "print(result_url_list)\n",
        "print(len(getAllUrl(url)))\n",
        "len(result_url_list)\n",
        "\n"
      ],
      "execution_count": 5,
      "outputs": [
        {
          "output_type": "stream",
          "text": [
            "['http://www.ebizmba.com/', 'http://www.ebizmba.com/directory#admin', 'http://www.ebizmba.com/directory#design', 'http://www.ebizmba.com/directory#marketing', 'http://www.ebizmba.com/directory#ecommerce', 'http://www.ebizmba.com/directory', 'http://www.ebizmba.com/directory#media', 'http://www.ebizmba.com/directory#research', \"javascript:bookmarksite('eBizMBA | The eBusiness Knowledgebase', 'http://www.ebizmba.com')\", 'http://www.ebizmba.com/terms', 'http://www.ebizmba.com/privacy', 'http://news.yahoo.com', 'http://siteanalytics.compete.com/news.yahoo.com', 'http://quantcast.com/news.yahoo.com', 'http://www.alexa.com/siteinfo/news.yahoo.com/', 'http://news.google.com', 'http://siteanalytics.compete.com/news.google.com', 'http://quantcast.com/news.google.com', 'http://www.alexa.com/siteinfo/news.google.com/', 'http://www.huffingtonpost.com', 'http://siteanalytics.compete.com/huffingtonpost.com', 'http://quantcast.com/huffingtonpost.com', 'http://www.alexa.com/siteinfo/huffingtonpost.com/', 'http://www.cnn.com', 'http://siteanalytics.compete.com/cnn.com', 'http://quantcast.com/cnn.com', 'http://www.alexa.com/siteinfo/cnn.com/', 'http://www.nytimes.com', 'http://siteanalytics.compete.com/nytimes.com', 'http://quantcast.com/nytimes.com', 'http://www.alexa.com/siteinfo/nytimes.com/', 'http://www.foxnews.com', 'http://siteanalytics.compete.com/foxnews.com', 'http://quantcast.com/foxnews.com', 'http://www.alexa.com/siteinfo/foxnews.com/', 'http://www.nbcnews.com', 'http://siteanalytics.compete.com/nbcnews.com', 'http://quantcast.com/nbcnews.com', 'http://www.alexa.com/siteinfo/nbcnews.com/', 'http://www.dailymail.co.uk', 'http://siteanalytics.compete.com/dailymail.co.uk', 'http://quantcast.com/dailymail.co.uk', 'http://www.alexa.com/siteinfo/dailymail.co.uk', 'http://www.washingtonpost.com', 'http://siteanalytics.compete.com/washingtonpost.com', 'http://quantcast.com/washingtonpost.com', 'http://www.alexa.com/siteinfo/washingtonpost.com/', 'http://www.theguardian.com', 'http://siteanalytics.compete.com/theguardian.com', 'http://quantcast.com/theguardian.com', 'http://www.alexa.com/siteinfo/theguardian.com/', 'http://www.wsj.com', 'http://siteanalytics.compete.com/wsj.com', 'http://quantcast.com/wsj.com', 'http://www.alexa.com/siteinfo/wsj.com/', 'http://www.abcnews.go.com', 'http://siteanalytics.compete.com/abcnews.go.com', 'http://quantcast.com/abcnews.go.com', 'http://www.alexa.com/siteinfo/abcnews.go.com/', 'http://news.bbc.co.uk', 'http://siteanalytics.compete.com/news.bbc.co.uk', 'http://quantcast.com/news.bbc.co.uk', 'http://www.alexa.com/siteinfo/news.bbc.co.uk/', 'http://www.usatoday.com', 'http://siteanalytics.compete.com/usatoday.com', 'http://quantcast.com/usatoday.com', 'http://www.alexa.com/siteinfo/usatoday.com/', 'http://www.latimes.com', 'http://siteanalytics.compete.com/latimes.com', 'http://quantcast.com/latimes.com', 'http://www.alexa.com/siteinfo/latimes.com/', 'http://www.ebizmba.com/articles/best-flash-sites', 'http://www.ebizmba.com/articles/best-html5-websites', 'http://www.ebizmba.com/articles/blogs', 'http://www.ebizmba.com/articles/business-websites', 'http://www.ebizmba.com/articles/car-websites', 'http://www.ebizmba.com/articles/coupon-websites', 'http://www.ebizmba.com/articles/dating-websites', 'http://www.ebizmba.com/articles/design-websites', 'http://www.ebizmba.com/articles/ebusiness-websites', 'http://www.ebizmba.com/articles/file-sharing-websites', 'http://www.ebizmba.com/articles/funny-websites', 'http://www.ebizmba.com/articles/gadget-websites', 'http://www.ebizmba.com/articles/game-websites', 'http://www.ebizmba.com/articles/gossip-websites', 'http://www.ebizmba.com/articles/health-websites', 'http://www.ebizmba.com/articles/job-websites', 'http://www.ebizmba.com/articles/kids-websites', 'http://www.ebizmba.com/articles/media-websites', 'http://www.ebizmba.com/articles/most-popular-websites', 'http://www.ebizmba.com/articles/movie-websites', 'http://www.ebizmba.com/articles/music-websites', 'http://www.ebizmba.com/articles/news-websites', 'http://www.ebizmba.com/articles/people-search', 'http://www.ebizmba.com/articles/personal-finance-websites', 'http://www.ebizmba.com/articles/photo-sharing-sites', 'http://www.ebizmba.com/articles/political-websites', 'http://www.ebizmba.com/articles/real-estate-websites', 'http://www.ebizmba.com/articles/recipe-websites', 'http://www.ebizmba.com/articles/reference-websites', 'http://www.ebizmba.com/articles/science-websites', 'http://www.ebizmba.com/articles/search-engines', 'http://www.ebizmba.com/articles/seo-websites', 'http://www.ebizmba.com/articles/shopping-websites', 'http://www.ebizmba.com/articles/social-bookmarking-websites', 'http://www.ebizmba.com/articles/social-networking-websites', 'http://www.ebizmba.com/articles/sports-websites', 'http://www.ebizmba.com/articles/travel-websites', 'http://www.ebizmba.com/articles/video-game-websites', 'http://www.ebizmba.com/articles/video-websites', 'http://www.ebizmba.com/articles/viral-sites', 'http://www.ebizmba.com/articles/web-2.0-websites', 'http://www.ebizmba.com/articles/web-hosting', 'http://www.ebizmba.com/company', 'http://www.ebizmba.com/contact']\n",
            "['http://news.yahoo.com', 'http://news.google.com', 'http://www.huffingtonpost.com', 'http://www.cnn.com', 'http://www.nytimes.com', 'http://www.foxnews.com', 'http://www.nbcnews.com', 'http://www.dailymail.co.uk', 'http://www.washingtonpost.com', 'http://www.theguardian.com', 'http://www.wsj.com', 'http://www.abcnews.go.com', 'http://news.bbc.co.uk', 'http://www.usatoday.com', 'http://www.latimes.com']\n",
            "115\n"
          ],
          "name": "stdout"
        },
        {
          "output_type": "execute_result",
          "data": {
            "text/plain": [
              "15"
            ]
          },
          "metadata": {
            "tags": []
          },
          "execution_count": 5
        }
      ]
    },
    {
      "cell_type": "code",
      "metadata": {
        "id": "t60DWdLQpTfg",
        "colab_type": "code",
        "colab": {}
      },
      "source": [
        "# get the texts from each URLs\n",
        "\n",
        "corpus = []\n",
        "\n",
        "for url in result_url_list:\n",
        "  try: \n",
        "   basic=requests.get(url).text\n",
        "   soup=BeautifulSoup(basic, 'html.parser')\n",
        "  except:\n",
        "   pass\n",
        "  \n",
        "  stripped_text=soup.get_text()\n",
        "  corpus.append(stripped_text)  \n",
        "\n",
        "   "
      ],
      "execution_count": 0,
      "outputs": []
    },
    {
      "cell_type": "code",
      "metadata": {
        "id": "ftGN1AITF3hO",
        "colab_type": "code",
        "colab": {}
      },
      "source": [
        "#clear the text, remove special charachters\n",
        "\n",
        "def remove_special_characters(text, remove_digits=False):\n",
        "    pattern = r'[^a-zA-z0-9\\s]' if not remove_digits else r'[^a-zA-z\\s]'\n",
        "    text = re.sub(pattern, '', text)\n",
        "    return text\n",
        "\n",
        "remove_special_characters(\"Well this was fun! What do you think? 123#@!\", \n",
        "                          remove_digits=True)"
      ],
      "execution_count": 0,
      "outputs": []
    },
    {
      "cell_type": "code",
      "metadata": {
        "id": "svkmk540GGpZ",
        "colab_type": "code",
        "colab": {}
      },
      "source": [
        "# run keyword(s) counter, create output table\n",
        "\n",
        "table = {'name': [], 'number of mentioning':[] , 'website size':[],'url':[] }\n",
        "\n",
        "keywords=['corona','Corona','coronavirus','corona virus','Corona Virus', 'Coronavirus', 'COVID', 'COVID-19']\n",
        "  out=[]\n",
        "\n",
        "  for i in keywords:\n",
        "    x = soup.find_all(string=re.compile('i'))\n",
        "    out.append(x)\n",
        "\n",
        "  counter = 0\n",
        "  for item in out:\n",
        "   counter += 1\n",
        "  \n",
        "  print(url)\n",
        "  print(len(redditAll))\n",
        "  print(counter)\n",
        "  print('--')\n",
        "\n",
        "  table['name'].append(urllib.parse.urlsplit(url)[1].replace('www.','').replace('.com','').replace('.co.uk',''))\n",
        "  table['number of mentioning'].append(counter)\n",
        "  table['website size'].append(len(redditAll))\n",
        "  table['url'].append(url)\n",
        "\n",
        "output_df = pd.DataFrame(data = table)\n",
        "print(output_df)\n",
        "  "
      ],
      "execution_count": 0,
      "outputs": []
    },
    {
      "cell_type": "code",
      "metadata": {
        "id": "lUTMorDBU8tl",
        "colab_type": "code",
        "colab": {}
      },
      "source": [
        "#mounting google drive - need to be run only for the first time!\n",
        "\n",
        "from google.colab import drive\n",
        "drive.mount('/content/drive')"
      ],
      "execution_count": 0,
      "outputs": []
    },
    {
      "cell_type": "code",
      "metadata": {
        "id": "qh7nJCdTS5DC",
        "colab_type": "code",
        "outputId": "f1c5b642-0a7c-4126-cd00-6514b01b1e8a",
        "colab": {
          "base_uri": "https://localhost:8080/",
          "height": 54
        }
      },
      "source": [
        "#save the output table\n",
        "\n",
        "timestr = time.strftime(\"%Y%m%d\")\n",
        "\n",
        "with open('heatmap' + timestr + '.csv', 'w', newline='') as csvfile:\n",
        "    heatmap = csv.writer(csvfile, delimiter=';', quotechar='\"', quoting=csv.QUOTE_MINIMAL)\n",
        "\n",
        "    for name in output_df:\n",
        "        heatmap.writerow(output_df[name])\n",
        "\n",
        "print(timestr)\n",
        "print(filename)\n"
      ],
      "execution_count": 0,
      "outputs": [
        {
          "output_type": "stream",
          "text": [
            "20200428\n",
            "heatmap20200428\n"
          ],
          "name": "stdout"
        }
      ]
    },
    {
      "cell_type": "code",
      "metadata": {
        "id": "rozGoBBrOj9N",
        "colab_type": "code",
        "colab": {}
      },
      "source": [
        "#investigate the input website\n",
        "\n",
        "url = 'http://www.ebizmba.com/articles/news-websites'\n",
        "site = request.urlopen(url)\n",
        "soupfile = BeautifulSoup(site)\n",
        "\n",
        "soupfile.prettify()"
      ],
      "execution_count": 0,
      "outputs": []
    }
  ]
}