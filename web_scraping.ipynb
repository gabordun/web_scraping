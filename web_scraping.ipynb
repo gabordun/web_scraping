{
  "nbformat": 4,
  "nbformat_minor": 0,
  "metadata": {
    "colab": {
      "name": "Untitled4.ipynb",
      "provenance": [],
      "authorship_tag": "ABX9TyOXRcdvreL15uMGFbq53Xmh",
      "include_colab_link": true
    },
    "kernelspec": {
      "name": "python3",
      "display_name": "Python 3"
    }
  },
  "cells": [
    {
      "cell_type": "markdown",
      "metadata": {
        "id": "view-in-github",
        "colab_type": "text"
      },
      "source": [
        "<a href=\"https://colab.research.google.com/github/gabordun/web_scraping/blob/master/web_scraping.ipynb\" target=\"_parent\"><img src=\"https://colab.research.google.com/assets/colab-badge.svg\" alt=\"Open In Colab\"/></a>"
      ]
    },
    {
      "cell_type": "code",
      "metadata": {
        "id": "Ivafqztuo-Os",
        "colab_type": "code",
        "colab": {
          "base_uri": "https://localhost:8080/",
          "height": 264
        },
        "outputId": "1f071457-83ba-4a7e-ac73-a346c7daffb9"
      },
      "source": [
        "#import packages\n",
        "\n",
        "import numpy as np\n",
        "import pandas as pd\n",
        "import csv\n",
        "from bs4 import BeautifulSoup\n",
        "import re\n",
        "\n",
        "#import requests\n",
        "\n",
        "from urllib import request\n",
        "import requests\n",
        "import time\n",
        "\n",
        "#finding sources\n",
        "\n",
        "\n",
        "url = 'http://www.ebizmba.com/articles/news-websites'\n",
        "\n",
        "def getAllUrl(url):\n",
        "    try:\n",
        "        page = request.urlopen(url).read()\n",
        "    except:\n",
        "        return []\n",
        "    urlList = []\n",
        "    try:\n",
        "        soup = BeautifulSoup(page)\n",
        "        soup.prettify()\n",
        "        for anchor in soup.findAll('a', href=True):\n",
        "            if not 'http://' in anchor['href']:\n",
        "                if urlparse.urljoin(url, anchor['href']) not in urlList:\n",
        "                    urlList.append(urlparse.urljoin(url, anchor['href']))\n",
        "            else:\n",
        "                if anchor['href'] not in urlList:\n",
        "                    urlList.append(anchor['href'])\n",
        "\n",
        "        length = len(urlList)\n",
        "\n",
        "        return urlList\n",
        "    except request.HTTPError as e:\n",
        "        print(e)\n",
        "\n",
        "print(getAllUrl(url))\n"
      ],
      "execution_count": 154,
      "outputs": [
        {
          "output_type": "stream",
          "text": [
            "['http://www.ebizmba.com/', 'http://www.ebizmba.com/directory#admin', 'http://www.ebizmba.com/directory#design', 'http://www.ebizmba.com/directory#marketing', 'http://www.ebizmba.com/directory#ecommerce', 'http://www.ebizmba.com/directory', 'http://www.ebizmba.com/directory#media', 'http://www.ebizmba.com/directory#research', \"javascript:bookmarksite('eBizMBA | The eBusiness Knowledgebase', 'http://www.ebizmba.com')\", 'http://www.ebizmba.com/terms', 'http://www.ebizmba.com/privacy', 'http://news.yahoo.com', 'http://siteanalytics.compete.com/news.yahoo.com', 'http://quantcast.com/news.yahoo.com', 'http://www.alexa.com/siteinfo/news.yahoo.com/', 'http://news.google.com', 'http://siteanalytics.compete.com/news.google.com', 'http://quantcast.com/news.google.com', 'http://www.alexa.com/siteinfo/news.google.com/', 'http://www.huffingtonpost.com', 'http://siteanalytics.compete.com/huffingtonpost.com', 'http://quantcast.com/huffingtonpost.com', 'http://www.alexa.com/siteinfo/huffingtonpost.com/', 'http://www.cnn.com', 'http://siteanalytics.compete.com/cnn.com', 'http://quantcast.com/cnn.com', 'http://www.alexa.com/siteinfo/cnn.com/', 'http://www.nytimes.com', 'http://siteanalytics.compete.com/nytimes.com', 'http://quantcast.com/nytimes.com', 'http://www.alexa.com/siteinfo/nytimes.com/', 'http://www.foxnews.com', 'http://siteanalytics.compete.com/foxnews.com', 'http://quantcast.com/foxnews.com', 'http://www.alexa.com/siteinfo/foxnews.com/', 'http://www.nbcnews.com', 'http://siteanalytics.compete.com/nbcnews.com', 'http://quantcast.com/nbcnews.com', 'http://www.alexa.com/siteinfo/nbcnews.com/', 'http://www.dailymail.co.uk', 'http://siteanalytics.compete.com/dailymail.co.uk', 'http://quantcast.com/dailymail.co.uk', 'http://www.alexa.com/siteinfo/dailymail.co.uk', 'http://www.washingtonpost.com', 'http://siteanalytics.compete.com/washingtonpost.com', 'http://quantcast.com/washingtonpost.com', 'http://www.alexa.com/siteinfo/washingtonpost.com/', 'http://www.theguardian.com', 'http://siteanalytics.compete.com/theguardian.com', 'http://quantcast.com/theguardian.com', 'http://www.alexa.com/siteinfo/theguardian.com/', 'http://www.wsj.com', 'http://siteanalytics.compete.com/wsj.com', 'http://quantcast.com/wsj.com', 'http://www.alexa.com/siteinfo/wsj.com/', 'http://www.abcnews.go.com', 'http://siteanalytics.compete.com/abcnews.go.com', 'http://quantcast.com/abcnews.go.com', 'http://www.alexa.com/siteinfo/abcnews.go.com/', 'http://news.bbc.co.uk', 'http://siteanalytics.compete.com/news.bbc.co.uk', 'http://quantcast.com/news.bbc.co.uk', 'http://www.alexa.com/siteinfo/news.bbc.co.uk/', 'http://www.usatoday.com', 'http://siteanalytics.compete.com/usatoday.com', 'http://quantcast.com/usatoday.com', 'http://www.alexa.com/siteinfo/usatoday.com/', 'http://www.latimes.com', 'http://siteanalytics.compete.com/latimes.com', 'http://quantcast.com/latimes.com', 'http://www.alexa.com/siteinfo/latimes.com/', 'http://www.ebizmba.com/articles/best-flash-sites', 'http://www.ebizmba.com/articles/best-html5-websites', 'http://www.ebizmba.com/articles/blogs', 'http://www.ebizmba.com/articles/business-websites', 'http://www.ebizmba.com/articles/car-websites', 'http://www.ebizmba.com/articles/coupon-websites', 'http://www.ebizmba.com/articles/dating-websites', 'http://www.ebizmba.com/articles/design-websites', 'http://www.ebizmba.com/articles/ebusiness-websites', 'http://www.ebizmba.com/articles/file-sharing-websites', 'http://www.ebizmba.com/articles/funny-websites', 'http://www.ebizmba.com/articles/gadget-websites', 'http://www.ebizmba.com/articles/game-websites', 'http://www.ebizmba.com/articles/gossip-websites', 'http://www.ebizmba.com/articles/health-websites', 'http://www.ebizmba.com/articles/job-websites', 'http://www.ebizmba.com/articles/kids-websites', 'http://www.ebizmba.com/articles/media-websites', 'http://www.ebizmba.com/articles/most-popular-websites', 'http://www.ebizmba.com/articles/movie-websites', 'http://www.ebizmba.com/articles/music-websites', 'http://www.ebizmba.com/articles/news-websites', 'http://www.ebizmba.com/articles/people-search', 'http://www.ebizmba.com/articles/personal-finance-websites', 'http://www.ebizmba.com/articles/photo-sharing-sites', 'http://www.ebizmba.com/articles/political-websites', 'http://www.ebizmba.com/articles/real-estate-websites', 'http://www.ebizmba.com/articles/recipe-websites', 'http://www.ebizmba.com/articles/reference-websites', 'http://www.ebizmba.com/articles/science-websites', 'http://www.ebizmba.com/articles/search-engines', 'http://www.ebizmba.com/articles/seo-websites', 'http://www.ebizmba.com/articles/shopping-websites', 'http://www.ebizmba.com/articles/social-bookmarking-websites', 'http://www.ebizmba.com/articles/social-networking-websites', 'http://www.ebizmba.com/articles/sports-websites', 'http://www.ebizmba.com/articles/travel-websites', 'http://www.ebizmba.com/articles/video-game-websites', 'http://www.ebizmba.com/articles/video-websites', 'http://www.ebizmba.com/articles/viral-sites', 'http://www.ebizmba.com/articles/web-2.0-websites', 'http://www.ebizmba.com/articles/web-hosting', 'http://www.ebizmba.com/company', 'http://www.ebizmba.com/contact']\n"
          ],
          "name": "stdout"
        },
        {
          "output_type": "error",
          "ename": "ValueError",
          "evalue": "ignored",
          "traceback": [
            "\u001b[0;31m---------------------------------------------------------------------------\u001b[0m",
            "\u001b[0;31mValueError\u001b[0m                                Traceback (most recent call last)",
            "\u001b[0;32m<ipython-input-154-64a2093f447c>\u001b[0m in \u001b[0;36m<module>\u001b[0;34m()\u001b[0m\n\u001b[1;32m     42\u001b[0m \u001b[0mprint\u001b[0m\u001b[0;34m(\u001b[0m\u001b[0mgetAllUrl\u001b[0m\u001b[0;34m(\u001b[0m\u001b[0murl\u001b[0m\u001b[0;34m)\u001b[0m\u001b[0;34m)\u001b[0m\u001b[0;34m\u001b[0m\u001b[0;34m\u001b[0m\u001b[0m\n\u001b[1;32m     43\u001b[0m \u001b[0;34m\u001b[0m\u001b[0m\n\u001b[0;32m---> 44\u001b[0;31m \u001b[0mhihi\u001b[0m \u001b[0;34m=\u001b[0m \u001b[0mgetAllUrl\u001b[0m\u001b[0;34m(\u001b[0m\u001b[0murl\u001b[0m\u001b[0;34m)\u001b[0m\u001b[0;34m.\u001b[0m\u001b[0mremove\u001b[0m\u001b[0;34m(\u001b[0m\u001b[0;36m8\u001b[0m\u001b[0;34m)\u001b[0m\u001b[0;34m\u001b[0m\u001b[0;34m\u001b[0m\u001b[0m\n\u001b[0m\u001b[1;32m     45\u001b[0m \u001b[0mhihi\u001b[0m\u001b[0;34m\u001b[0m\u001b[0;34m\u001b[0m\u001b[0m\n",
            "\u001b[0;31mValueError\u001b[0m: list.remove(x): x not in list"
          ]
        }
      ]
    },
    {
      "cell_type": "code",
      "metadata": {
        "id": "t60DWdLQpTfg",
        "colab_type": "code",
        "colab": {
          "base_uri": "https://localhost:8080/",
          "height": 540
        },
        "outputId": "dc6f8f8a-578a-43d4-f502-64eea1eb1289"
      },
      "source": [
        "# run counter\n",
        "\n",
        "for url in getAllUrl(url):\n",
        "  basic=requests.get(url).text\n",
        "  soup=BeautifulSoup(basic, 'html.parser')\n",
        "\n",
        "  #b = soup.prettify()\n",
        "  #print(b)\n",
        "\n",
        "  keywords={'corona','Corona','coronavirus','corona virus','Corona Virus', 'Coronavirus'}\n",
        "\n",
        "  for x in keywords:\n",
        "   x = soup(text=re.compile('x'))\n",
        "   counter = 0\n",
        "   for item in x:\n",
        "    counter += 1\n",
        "  \n",
        "  print(counter)\n",
        "  "
      ],
      "execution_count": 148,
      "outputs": [
        {
          "output_type": "stream",
          "text": [
            "18\n",
            "42\n",
            "42\n",
            "42\n",
            "42\n",
            "42\n",
            "42\n",
            "42\n"
          ],
          "name": "stdout"
        },
        {
          "output_type": "error",
          "ename": "InvalidSchema",
          "evalue": "ignored",
          "traceback": [
            "\u001b[0;31m---------------------------------------------------------------------------\u001b[0m",
            "\u001b[0;31mInvalidSchema\u001b[0m                             Traceback (most recent call last)",
            "\u001b[0;32m<ipython-input-148-3db6c6eca6d5>\u001b[0m in \u001b[0;36m<module>\u001b[0;34m()\u001b[0m\n\u001b[1;32m      1\u001b[0m \u001b[0;34m\u001b[0m\u001b[0m\n\u001b[1;32m      2\u001b[0m \u001b[0;32mfor\u001b[0m \u001b[0murl\u001b[0m \u001b[0;32min\u001b[0m \u001b[0mgetAllUrl\u001b[0m\u001b[0;34m(\u001b[0m\u001b[0murl\u001b[0m\u001b[0;34m)\u001b[0m\u001b[0;34m:\u001b[0m\u001b[0;34m\u001b[0m\u001b[0;34m\u001b[0m\u001b[0m\n\u001b[0;32m----> 3\u001b[0;31m   \u001b[0mbasic\u001b[0m\u001b[0;34m=\u001b[0m\u001b[0mrequests\u001b[0m\u001b[0;34m.\u001b[0m\u001b[0mget\u001b[0m\u001b[0;34m(\u001b[0m\u001b[0murl\u001b[0m\u001b[0;34m)\u001b[0m\u001b[0;34m.\u001b[0m\u001b[0mtext\u001b[0m\u001b[0;34m\u001b[0m\u001b[0;34m\u001b[0m\u001b[0m\n\u001b[0m\u001b[1;32m      4\u001b[0m   \u001b[0msoup\u001b[0m\u001b[0;34m=\u001b[0m\u001b[0mBeautifulSoup\u001b[0m\u001b[0;34m(\u001b[0m\u001b[0mbasic\u001b[0m\u001b[0;34m,\u001b[0m \u001b[0;34m'html.parser'\u001b[0m\u001b[0;34m)\u001b[0m\u001b[0;34m\u001b[0m\u001b[0;34m\u001b[0m\u001b[0m\n\u001b[1;32m      5\u001b[0m \u001b[0;34m\u001b[0m\u001b[0m\n",
            "\u001b[0;32m/usr/local/lib/python3.6/dist-packages/requests/api.py\u001b[0m in \u001b[0;36mget\u001b[0;34m(url, params, **kwargs)\u001b[0m\n\u001b[1;32m     73\u001b[0m \u001b[0;34m\u001b[0m\u001b[0m\n\u001b[1;32m     74\u001b[0m     \u001b[0mkwargs\u001b[0m\u001b[0;34m.\u001b[0m\u001b[0msetdefault\u001b[0m\u001b[0;34m(\u001b[0m\u001b[0;34m'allow_redirects'\u001b[0m\u001b[0;34m,\u001b[0m \u001b[0;32mTrue\u001b[0m\u001b[0;34m)\u001b[0m\u001b[0;34m\u001b[0m\u001b[0;34m\u001b[0m\u001b[0m\n\u001b[0;32m---> 75\u001b[0;31m     \u001b[0;32mreturn\u001b[0m \u001b[0mrequest\u001b[0m\u001b[0;34m(\u001b[0m\u001b[0;34m'get'\u001b[0m\u001b[0;34m,\u001b[0m \u001b[0murl\u001b[0m\u001b[0;34m,\u001b[0m \u001b[0mparams\u001b[0m\u001b[0;34m=\u001b[0m\u001b[0mparams\u001b[0m\u001b[0;34m,\u001b[0m \u001b[0;34m**\u001b[0m\u001b[0mkwargs\u001b[0m\u001b[0;34m)\u001b[0m\u001b[0;34m\u001b[0m\u001b[0;34m\u001b[0m\u001b[0m\n\u001b[0m\u001b[1;32m     76\u001b[0m \u001b[0;34m\u001b[0m\u001b[0m\n\u001b[1;32m     77\u001b[0m \u001b[0;34m\u001b[0m\u001b[0m\n",
            "\u001b[0;32m/usr/local/lib/python3.6/dist-packages/requests/api.py\u001b[0m in \u001b[0;36mrequest\u001b[0;34m(method, url, **kwargs)\u001b[0m\n\u001b[1;32m     58\u001b[0m     \u001b[0;31m# cases, and look like a memory leak in others.\u001b[0m\u001b[0;34m\u001b[0m\u001b[0;34m\u001b[0m\u001b[0;34m\u001b[0m\u001b[0m\n\u001b[1;32m     59\u001b[0m     \u001b[0;32mwith\u001b[0m \u001b[0msessions\u001b[0m\u001b[0;34m.\u001b[0m\u001b[0mSession\u001b[0m\u001b[0;34m(\u001b[0m\u001b[0;34m)\u001b[0m \u001b[0;32mas\u001b[0m \u001b[0msession\u001b[0m\u001b[0;34m:\u001b[0m\u001b[0;34m\u001b[0m\u001b[0;34m\u001b[0m\u001b[0m\n\u001b[0;32m---> 60\u001b[0;31m         \u001b[0;32mreturn\u001b[0m \u001b[0msession\u001b[0m\u001b[0;34m.\u001b[0m\u001b[0mrequest\u001b[0m\u001b[0;34m(\u001b[0m\u001b[0mmethod\u001b[0m\u001b[0;34m=\u001b[0m\u001b[0mmethod\u001b[0m\u001b[0;34m,\u001b[0m \u001b[0murl\u001b[0m\u001b[0;34m=\u001b[0m\u001b[0murl\u001b[0m\u001b[0;34m,\u001b[0m \u001b[0;34m**\u001b[0m\u001b[0mkwargs\u001b[0m\u001b[0;34m)\u001b[0m\u001b[0;34m\u001b[0m\u001b[0;34m\u001b[0m\u001b[0m\n\u001b[0m\u001b[1;32m     61\u001b[0m \u001b[0;34m\u001b[0m\u001b[0m\n\u001b[1;32m     62\u001b[0m \u001b[0;34m\u001b[0m\u001b[0m\n",
            "\u001b[0;32m/usr/local/lib/python3.6/dist-packages/requests/sessions.py\u001b[0m in \u001b[0;36mrequest\u001b[0;34m(self, method, url, params, data, headers, cookies, files, auth, timeout, allow_redirects, proxies, hooks, stream, verify, cert, json)\u001b[0m\n\u001b[1;32m    531\u001b[0m         }\n\u001b[1;32m    532\u001b[0m         \u001b[0msend_kwargs\u001b[0m\u001b[0;34m.\u001b[0m\u001b[0mupdate\u001b[0m\u001b[0;34m(\u001b[0m\u001b[0msettings\u001b[0m\u001b[0;34m)\u001b[0m\u001b[0;34m\u001b[0m\u001b[0;34m\u001b[0m\u001b[0m\n\u001b[0;32m--> 533\u001b[0;31m         \u001b[0mresp\u001b[0m \u001b[0;34m=\u001b[0m \u001b[0mself\u001b[0m\u001b[0;34m.\u001b[0m\u001b[0msend\u001b[0m\u001b[0;34m(\u001b[0m\u001b[0mprep\u001b[0m\u001b[0;34m,\u001b[0m \u001b[0;34m**\u001b[0m\u001b[0msend_kwargs\u001b[0m\u001b[0;34m)\u001b[0m\u001b[0;34m\u001b[0m\u001b[0;34m\u001b[0m\u001b[0m\n\u001b[0m\u001b[1;32m    534\u001b[0m \u001b[0;34m\u001b[0m\u001b[0m\n\u001b[1;32m    535\u001b[0m         \u001b[0;32mreturn\u001b[0m \u001b[0mresp\u001b[0m\u001b[0;34m\u001b[0m\u001b[0;34m\u001b[0m\u001b[0m\n",
            "\u001b[0;32m/usr/local/lib/python3.6/dist-packages/requests/sessions.py\u001b[0m in \u001b[0;36msend\u001b[0;34m(self, request, **kwargs)\u001b[0m\n\u001b[1;32m    638\u001b[0m \u001b[0;34m\u001b[0m\u001b[0m\n\u001b[1;32m    639\u001b[0m         \u001b[0;31m# Get the appropriate adapter to use\u001b[0m\u001b[0;34m\u001b[0m\u001b[0;34m\u001b[0m\u001b[0;34m\u001b[0m\u001b[0m\n\u001b[0;32m--> 640\u001b[0;31m         \u001b[0madapter\u001b[0m \u001b[0;34m=\u001b[0m \u001b[0mself\u001b[0m\u001b[0;34m.\u001b[0m\u001b[0mget_adapter\u001b[0m\u001b[0;34m(\u001b[0m\u001b[0murl\u001b[0m\u001b[0;34m=\u001b[0m\u001b[0mrequest\u001b[0m\u001b[0;34m.\u001b[0m\u001b[0murl\u001b[0m\u001b[0;34m)\u001b[0m\u001b[0;34m\u001b[0m\u001b[0;34m\u001b[0m\u001b[0m\n\u001b[0m\u001b[1;32m    641\u001b[0m \u001b[0;34m\u001b[0m\u001b[0m\n\u001b[1;32m    642\u001b[0m         \u001b[0;31m# Start time (approximately) of the request\u001b[0m\u001b[0;34m\u001b[0m\u001b[0;34m\u001b[0m\u001b[0;34m\u001b[0m\u001b[0m\n",
            "\u001b[0;32m/usr/local/lib/python3.6/dist-packages/requests/sessions.py\u001b[0m in \u001b[0;36mget_adapter\u001b[0;34m(self, url)\u001b[0m\n\u001b[1;32m    729\u001b[0m \u001b[0;34m\u001b[0m\u001b[0m\n\u001b[1;32m    730\u001b[0m         \u001b[0;31m# Nothing matches :-/\u001b[0m\u001b[0;34m\u001b[0m\u001b[0;34m\u001b[0m\u001b[0;34m\u001b[0m\u001b[0m\n\u001b[0;32m--> 731\u001b[0;31m         \u001b[0;32mraise\u001b[0m \u001b[0mInvalidSchema\u001b[0m\u001b[0;34m(\u001b[0m\u001b[0;34m\"No connection adapters were found for '%s'\"\u001b[0m \u001b[0;34m%\u001b[0m \u001b[0murl\u001b[0m\u001b[0;34m)\u001b[0m\u001b[0;34m\u001b[0m\u001b[0;34m\u001b[0m\u001b[0m\n\u001b[0m\u001b[1;32m    732\u001b[0m \u001b[0;34m\u001b[0m\u001b[0m\n\u001b[1;32m    733\u001b[0m     \u001b[0;32mdef\u001b[0m \u001b[0mclose\u001b[0m\u001b[0;34m(\u001b[0m\u001b[0mself\u001b[0m\u001b[0;34m)\u001b[0m\u001b[0;34m:\u001b[0m\u001b[0;34m\u001b[0m\u001b[0;34m\u001b[0m\u001b[0m\n",
            "\u001b[0;31mInvalidSchema\u001b[0m: No connection adapters were found for 'javascript:bookmarksite('eBizMBA | The eBusiness Knowledgebase', 'http://www.ebizmba.com')'"
          ]
        }
      ]
    },
    {
      "cell_type": "code",
      "metadata": {
        "id": "zqI4wkyB9OMN",
        "colab_type": "code",
        "colab": {}
      },
      "source": [
        "seed_urls = ['https://welt.de',\n",
        "             'https://nytimes.com',\n",
        "             'https://theguardian.com',\n",
        "             'https://lefigaro.fr',\n",
        "             'https://elpais.com']\n",
        "\n",
        "for url in seed_urls:\n",
        "  basic=requests.get(url).text\n",
        "  soup=BeautifulSoup(basic, 'html.parser')\n",
        "\n",
        "  #b = soup.prettify()\n",
        "  #print(b)\n",
        "\n",
        "  keywords={'corona','Corona','coronavirus','corona virus','Corona Virus', 'Coronavirus'}\n",
        "\n",
        "  for x in keywords:\n",
        "   x = soup(text=re.compile('x'))\n",
        "   rowcounter = 0\n",
        "   for item in x:\n",
        "    rowcounter += 1\n",
        "  \n",
        "  y = soup.find_all('a')\n",
        "  colcounter = 0\n",
        "  for item in y:\n",
        "    colcounter += 1\n",
        "\n",
        "  print(rowcounter)\n",
        "  print(colcounter)\n",
        "\n",
        "  result = []\n",
        "  for i in range(0,colcounter):\n",
        "    a=y[i].get_text(\"title\").replace(\"title\",\" \").replace(\"\\n\",\" \")\n",
        "    result.append(a)\n",
        " \n",
        "  df = pd.DataFrame(data = result)\n",
        "  print(df)\n",
        "\n",
        "#df.to_csv(\"formula1.csv\")\n",
        "#uploaded = drive.CreateFile({'title': 'formula1.csv'})\n",
        "#uploaded.SetContentFile(\"formula1.csv\")\n",
        "#uploaded.Upload()"
      ],
      "execution_count": 0,
      "outputs": []
    }
  ]
}